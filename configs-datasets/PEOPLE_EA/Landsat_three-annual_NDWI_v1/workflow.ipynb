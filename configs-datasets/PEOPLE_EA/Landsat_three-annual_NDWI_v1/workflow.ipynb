{
 "cells": [
  {
   "cell_type": "code",
   "execution_count": 1,
   "metadata": {},
   "outputs": [],
   "source": [
    "from pathlib import Path\n",
    "# import json\n",
    "import pprint\n",
    "\n",
    "# run pip install -e . in the root directory to install this package\n",
    "from stacbuilder import *"
   ]
  },
  {
   "cell_type": "code",
   "execution_count": 2,
   "metadata": {},
   "outputs": [],
   "source": [
    "# Collection configuration\n",
    "catalog_version = \"v0.5\"\n",
    "collection_config_path = Path(\"config-collection.json\")\n",
    "overwrite = True\n",
    "\n",
    "# Input Paths\n",
    "tiff_input_path = Path(\"C:/Users/VERHAERV/WorkingDirs/data/PEOPLE_EA/Landsat_three-annual_NDWI_v1\")\n",
    "tiffs_glob = '*/*.tif'\n",
    "\n",
    "# Output Paths\n",
    "output_path = Path(\"results\")\n",
    "test_output_path = output_path / \"test\" / catalog_version\n",
    "publish_output_path = output_path / \"publish\" / catalog_version\n",
    "\n",
    "# Openeo backend\n",
    "openeo_backend_url = \"https://openeo-dev.vito.be\"\n"
   ]
  },
  {
   "cell_type": "code",
   "execution_count": 11,
   "metadata": {},
   "outputs": [
    {
     "name": "stdout",
     "output_type": "stream",
     "text": [
      "Found 770 input files. 5 first files:\n",
      "C:\\Users\\VERHAERV\\WorkingDirs\\data\\PEOPLE_EA\\Landsat_three-annual_NDWI_v1\\2000\\NDWI_2000_1_1.tif\n",
      "C:\\Users\\VERHAERV\\WorkingDirs\\data\\PEOPLE_EA\\Landsat_three-annual_NDWI_v1\\2000\\NDWI_2000_1_2.tif\n",
      "C:\\Users\\VERHAERV\\WorkingDirs\\data\\PEOPLE_EA\\Landsat_three-annual_NDWI_v1\\2000\\NDWI_2000_1_3.tif\n",
      "C:\\Users\\VERHAERV\\WorkingDirs\\data\\PEOPLE_EA\\Landsat_three-annual_NDWI_v1\\2000\\NDWI_2000_1_4.tif\n",
      "C:\\Users\\VERHAERV\\WorkingDirs\\data\\PEOPLE_EA\\Landsat_three-annual_NDWI_v1\\2000\\NDWI_2000_1_5.tif\n"
     ]
    }
   ],
   "source": [
    "# list input files\n",
    "input_files = list_input_files(\n",
    "    glob=tiffs_glob,\n",
    "    input_dir=tiff_input_path,\n",
    "    max_files=None\n",
    ")\n",
    "print(f\"Found {len(input_files)} input files. 5 first files:\")\n",
    "for i in input_files[:5]: print(i) "
   ]
  },
  {
   "cell_type": "code",
   "execution_count": 4,
   "metadata": {},
   "outputs": [
    {
     "name": "stdout",
     "output_type": "stream",
     "text": [
      "{'asset_id': 'NDWI_2000_1_1',\n",
      " 'asset_path': WindowsPath('C:/Users/VERHAERV/WorkingDirs/data/PEOPLE_EA/Landsat_three-annual_NDWI_v1/2000/NDWI_2000_1_1.tif'),\n",
      " 'asset_type': 'NDWI',\n",
      " 'bbox_lat_lon': {'east': -35.037744053124435,\n",
      "                  'epsg': 4326,\n",
      "                  'north': 54.701421721384676,\n",
      "                  'south': 55.50073948839283,\n",
      "                  'west': -58.65728862678572},\n",
      " 'bbox_projected': {'east': 1689000.0,\n",
      "                    'epsg': 3035,\n",
      "                    'north': 5491700.0,\n",
      "                    'south': 4467700.0,\n",
      "                    'west': 665000.0},\n",
      " 'collection_id': None,\n",
      " 'datetime': datetime.datetime(2000, 1, 1, 0, 0, tzinfo=datetime.timezone.utc),\n",
      " 'end_datetime': datetime.datetime(2000, 12, 31, 23, 59, 59, tzinfo=datetime.timezone.utc),\n",
      " 'file_size': 604265,\n",
      " 'geometry_lat_lon': <POLYGON ((-58.657 55.501, -58.657 54.701, -35.038 54.701, -35.038 55.501, -...>,\n",
      " 'href': 'C:\\\\Users\\\\VERHAERV\\\\WorkingDirs\\\\data\\\\PEOPLE_EA\\\\Landsat_three-annual_NDWI_v1\\\\2000\\\\NDWI_2000_1_1.tif',\n",
      " 'item_href': None,\n",
      " 'item_id': 'NDWI_2000_1_1',\n",
      " 'media_type': None,\n",
      " 'original_href': 'C:\\\\Users\\\\VERHAERV\\\\WorkingDirs\\\\data\\\\PEOPLE_EA\\\\Landsat_three-annual_NDWI_v1\\\\2000\\\\NDWI_2000_1_1.tif',\n",
      " 'raster_metadata': {'bands': [{'data_type': 'float32',\n",
      "                                'index': 0,\n",
      "                                'nodata': None}],\n",
      "                     'shape': (10240, 10240)},\n",
      " 'shape': (10240, 10240),\n",
      " 'start_datetime': datetime.datetime(2000, 1, 1, 0, 0, tzinfo=datetime.timezone.utc),\n",
      " 'tags': {'AREA_OR_POINT': 'Area'},\n",
      " 'tile_id': None,\n",
      " 'title': None,\n",
      " 'transform': [100.0, 0.0, 665000.0, 0.0, -100.0, 5491700.0]}\n"
     ]
    }
   ],
   "source": [
    "# list meta data\n",
    "asset_metadata = list_asset_metadata(\n",
    "    collection_config_path=collection_config_path,\n",
    "    glob=tiffs_glob,\n",
    "    input_dir=tiff_input_path,\n",
    "    max_files=1\n",
    ")\n",
    "for k in asset_metadata: \n",
    "    pprint.pprint(k.to_dict())"
   ]
  },
  {
   "cell_type": "code",
   "execution_count": 17,
   "metadata": {},
   "outputs": [
    {
     "name": "stdout",
     "output_type": "stream",
     "text": [
      "Found 0 STAC items\n"
     ]
    }
   ],
   "source": [
    "# list items\n",
    "stac_items, failed_files = list_stac_items(\n",
    "    collection_config_path=collection_config_path,\n",
    "    glob=tiffs_glob,\n",
    "    input_dir=tiff_input_path,\n",
    "    max_files=1\n",
    ")\n",
    "print(f\"Found {len(stac_items)} STAC items\")\n",
    "if failed_files: print(f\"Failed files: {failed_files}\")\n",
    "if len(stac_items) > 0:\n",
    "    print(\"First stac item:\")\n",
    "    stac_items[0]"
   ]
  },
  {
   "cell_type": "code",
   "execution_count": 13,
   "metadata": {},
   "outputs": [],
   "source": [
    "# build grouped collection\n",
    "build_grouped_collections(\n",
    "    collection_config_path=collection_config_path,\n",
    "    glob=tiffs_glob,\n",
    "    input_dir=tiff_input_path,\n",
    "    output_dir=test_output_path,\n",
    "    overwrite=overwrite,\n",
    ")"
   ]
  },
  {
   "cell_type": "code",
   "execution_count": 15,
   "metadata": {},
   "outputs": [],
   "source": [
    "# validate collection\n",
    "validate_collection(\n",
    "    collection_file=test_output_path / \"collection.json\",\n",
    ")"
   ]
  },
  {
   "cell_type": "code",
   "execution_count": null,
   "metadata": {},
   "outputs": [],
   "source": [
    "# show collection\n",
    "load_collection(\n",
    "    collection_file=test_output_path / \"collection.json\"\n",
    ")"
   ]
  },
  {
   "cell_type": "markdown",
   "metadata": {},
   "source": [
    "## Legacy\n",
    "better to use grouped collections"
   ]
  },
  {
   "cell_type": "code",
   "execution_count": null,
   "metadata": {},
   "outputs": [],
   "source": [
    "# build collection\n",
    "build_collection(\n",
    "    collection_config_path=collection_config_path,\n",
    "    glob=tiffs_glob,\n",
    "    input_dir=tiff_input_path,\n",
    "    output_dir=test_output_path,\n",
    "    overwrite=overwrite,\n",
    ")"
   ]
  }
 ],
 "metadata": {
  "kernelspec": {
   "display_name": "stac-catalog-builder",
   "language": "python",
   "name": "python3"
  },
  "language_info": {
   "codemirror_mode": {
    "name": "ipython",
    "version": 3
   },
   "file_extension": ".py",
   "mimetype": "text/x-python",
   "name": "python",
   "nbconvert_exporter": "python",
   "pygments_lexer": "ipython3",
   "version": "3.11.0"
  }
 },
 "nbformat": 4,
 "nbformat_minor": 2
}

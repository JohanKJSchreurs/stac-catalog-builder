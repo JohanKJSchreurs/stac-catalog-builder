{
 "cells": [
  {
   "cell_type": "code",
   "execution_count": 1,
   "metadata": {},
   "outputs": [],
   "source": [
    "from pathlib import Path\n",
    "import json\n",
    "\n",
    "# run pip install -e . in the root directory to install this package\n",
    "from stacbuilder import *"
   ]
  },
  {
   "cell_type": "code",
   "execution_count": 6,
   "metadata": {},
   "outputs": [],
   "source": [
    "# Collection configuration\n",
    "catalog_version = \"v0.5\"\n",
    "collection_config_path = Path(\"config-collection.json\")\n",
    "collection_config = json.loads(collection_config_path.read_text())\n",
    "\n",
    "# Input Paths\n",
    "tiff_input_path = Path(\"C:/Users/VERHAERV/WorkingDirs/data/PEOPLE_EA/Landsat_three-annual_NDWI_v1\")\n",
    "tiffs_glob = '*/*.tif'\n",
    "\n",
    "# Output Paths\n",
    "output_path = Path(\"results\")\n",
    "test_output_path = output_path / \"test\" / catalog_version\n",
    "publish_output_path = output_path / \"publish\" / catalog_version\n",
    "\n",
    "# Openeo backend\n",
    "openeo_backend_url = \"https://openeo-dev.vito.be\"\n"
   ]
  },
  {
   "cell_type": "code",
   "execution_count": 3,
   "metadata": {},
   "outputs": [
    {
     "name": "stdout",
     "output_type": "stream",
     "text": [
      "Found 5 files:\n",
      "C:\\Users\\VERHAERV\\WorkingDirs\\data\\PEOPLE_EA\\Landsat_three-annual_NDWI_v1\\2000\\NDWI_2000_1_1.tif\n",
      "C:\\Users\\VERHAERV\\WorkingDirs\\data\\PEOPLE_EA\\Landsat_three-annual_NDWI_v1\\2000\\NDWI_2000_1_2.tif\n",
      "C:\\Users\\VERHAERV\\WorkingDirs\\data\\PEOPLE_EA\\Landsat_three-annual_NDWI_v1\\2000\\NDWI_2000_1_3.tif\n",
      "C:\\Users\\VERHAERV\\WorkingDirs\\data\\PEOPLE_EA\\Landsat_three-annual_NDWI_v1\\2000\\NDWI_2000_1_4.tif\n",
      "C:\\Users\\VERHAERV\\WorkingDirs\\data\\PEOPLE_EA\\Landsat_three-annual_NDWI_v1\\2000\\NDWI_2000_1_5.tif\n"
     ]
    }
   ],
   "source": [
    "# list input files\n",
    "list_input_files(\n",
    "    glob=tiffs_glob,\n",
    "    input_dir=tiff_input_path,\n",
    "    max_files=5\n",
    ")"
   ]
  },
  {
   "cell_type": "code",
   "execution_count": 8,
   "metadata": {},
   "outputs": [
    {
     "name": "stdout",
     "output_type": "stream",
     "text": [
      "resetting FileCollector instance: <stacbuilder.builder.FileCollector object at 0x0000014E1E636110>\n",
      "=== group=2000 ===\n",
      "   number of assets: 1\n",
      "{'group': 2000,\n",
      " 'metadata': {'_info_from_href': {'asset_type': 'NDWI',\n",
      "                                  'datetime': datetime.datetime(2000, 1, 1, 0, 0, tzinfo=datetime.timezone.utc),\n",
      "                                  'end_datetime': datetime.datetime(2000, 12, 31, 23, 59, 59, tzinfo=datetime.timezone.utc),\n",
      "                                  'start_datetime': datetime.datetime(2000, 1, 1, 0, 0, tzinfo=datetime.timezone.utc),\n",
      "                                  'tile_col': '1',\n",
      "                                  'tile_row': '1',\n",
      "                                  'year': 2000},\n",
      "              'asset_id': 'NDWI_2000_1_1',\n",
      "              'asset_path': WindowsPath('C:/Users/VERHAERV/WorkingDirs/data/PEOPLE_EA/Landsat_three-annual_NDWI_v1/2000/NDWI_2000_1_1.tif'),\n",
      "              'asset_type': 'NDWI',\n",
      "              'bbox_lat_lon': {'east': -35.037744053124435,\n",
      "                               'epsg': 4326,\n",
      "                               'north': 54.701421721384676,\n",
      "                               'south': 55.50073948839283,\n",
      "                               'west': -58.65728862678572},\n",
      "              'bbox_projected': {'east': 1689000.0,\n",
      "                                 'epsg': 3035,\n",
      "                                 'north': 5491700.0,\n",
      "                                 'south': 4467700.0,\n",
      "                                 'west': 665000.0},\n",
      "              'collection_id': None,\n",
      "              'datetime': datetime.datetime(2000, 1, 1, 0, 0, tzinfo=datetime.timezone.utc),\n",
      "              'end_datetime': datetime.datetime(2000, 12, 31, 23, 59, 59, tzinfo=datetime.timezone.utc),\n",
      "              'geometry_lat_lon': <POLYGON ((-58.657 55.501, -58.657 54.701, -35.038 54.701, -35.038 55.501, -...>,\n",
      "              'href': 'C:\\\\Users\\\\VERHAERV\\\\WorkingDirs\\\\data\\\\PEOPLE_EA\\\\Landsat_three-annual_NDWI_v1\\\\2000\\\\NDWI_2000_1_1.tif',\n",
      "              'item_id': 'NDWI_2000_1_1',\n",
      "              'original_href': 'C:\\\\Users\\\\VERHAERV\\\\WorkingDirs\\\\data\\\\PEOPLE_EA\\\\Landsat_three-annual_NDWI_v1\\\\2000\\\\NDWI_2000_1_1.tif',\n",
      "              'raster_metadata': {'bands': [{'data_type': 'float32',\n",
      "                                             'index': 0,\n",
      "                                             'nodata': None}],\n",
      "                                  'shape': (10240, 10240)},\n",
      "              'shape': (10240, 10240),\n",
      "              'start_datetime': datetime.datetime(2000, 1, 1, 0, 0, tzinfo=datetime.timezone.utc),\n",
      "              'tags': {'AREA_OR_POINT': 'Area'},\n",
      "              'tile_id': None,\n",
      "              'title': None}}\n",
      "\n",
      "\n"
     ]
    }
   ],
   "source": [
    "# list meta data\n",
    "list_asset_metadata(\n",
    "    collection_config_path=collection_config_path,\n",
    "    glob=tiffs_glob,\n",
    "    input_dir=tiff_input_path,\n",
    "    max_files=1\n",
    ")"
   ]
  },
  {
   "cell_type": "code",
   "execution_count": 14,
   "metadata": {},
   "outputs": [
    {
     "name": "stdout",
     "output_type": "stream",
     "text": [
      "resetting FileCollector instance: <stacbuilder.builder.FileCollector object at 0x0000014E1EDAB050>\n",
      "{'assets': {'NDWI': {'alternate': {'MEP': {'href': 'C:\\\\Users\\\\VERHAERV\\\\WorkingDirs\\\\data\\\\PEOPLE_EA\\\\Landsat_three-annual_NDWI_v1\\\\2000\\\\NDWI_2000_1_1.tif'}},\n",
      "                     'description': 'Landsat NDWI',\n",
      "                     'eo:bands': [{'description': 'NDWI', 'name': 'NDWI'}],\n",
      "                     'href': 'C:/Users/VERHAERV/WorkingDirs/data/PEOPLE_EA/Landsat_three-annual_NDWI_v1/2000/NDWI_2000_1_1.tif',\n",
      "                     'raster:bands': [{'data_type': 'float32'}],\n",
      "                     'roles': ['data'],\n",
      "                     'title': 'Landsat NDWI',\n",
      "                     'type': <MediaType.GEOTIFF: 'image/tiff; application=geotiff'>}},\n",
      " 'bbox': [-58.65728862678572,\n",
      "          55.50073948839283,\n",
      "          -35.037744053124435,\n",
      "          54.701421721384676],\n",
      " 'geometry': {'coordinates': (((-58.65728862678572, 55.50073948839283),\n",
      "                               (-58.65728862678572, 54.701421721384676),\n",
      "                               (-35.037744053124435, 54.701421721384676),\n",
      "                               (-35.037744053124435, 55.50073948839283),\n",
      "                               (-58.65728862678572, 55.50073948839283)),),\n",
      "              'type': 'Polygon'},\n",
      " 'id': 'NDWI_2000_1_1',\n",
      " 'links': [{'href': 'C:/Users/VERHAERV/WorkingDirs/data/PEOPLE_EA/Landsat_three-annual_NDWI_v1/2000/NDWI_2000_1_1.tif',\n",
      "            'rel': 'self',\n",
      "            'type': 'application/json'}],\n",
      " 'properties': {'created': '2024-02-05T09:58:20.270178Z',\n",
      "                'datetime': '2000-01-01T00:00:00Z',\n",
      "                'description': 'Landsat NDWI',\n",
      "                'end_datetime': '2000-12-31T23:59:59Z',\n",
      "                'product_version': '1.0.0',\n",
      "                'proj:bbox': [665000.0, 4467700.0, 1689000.0, 5491700.0],\n",
      "                'proj:epsg': 3035,\n",
      "                'proj:geometry': {'coordinates': (((665000.0, 4467700.0),\n",
      "                                                   (665000.0, 5491700.0),\n",
      "                                                   (1689000.0, 5491700.0),\n",
      "                                                   (1689000.0, 4467700.0),\n",
      "                                                   (665000.0, 4467700.0)),),\n",
      "                                  'type': 'Polygon'},\n",
      "                'proj:shape': (10240, 10240),\n",
      "                'proj:transform': [100.0,\n",
      "                                   0.0,\n",
      "                                   665000.0,\n",
      "                                   0.0,\n",
      "                                   -100.0,\n",
      "                                   5491700.0],\n",
      "                'start_datetime': '2000-01-01T00:00:00Z'},\n",
      " 'stac_extensions': ['https://stac-extensions.github.io/raster/v1.1.0/schema.json',\n",
      "                     'https://stac-extensions.github.io/projection/v1.1.0/schema.json',\n",
      "                     'https://stac-extensions.github.io/classification/v1.0.0/schema.json',\n",
      "                     'https://stac-extensions.github.io/alternate-assets/v1.1.0/schema.json'],\n",
      " 'stac_version': '1.0.0',\n",
      " 'type': 'Feature'}\n"
     ]
    }
   ],
   "source": [
    "# list items\n",
    "list_stac_items(\n",
    "    collection_config_path=collection_config_path,\n",
    "    glob=tiffs_glob,\n",
    "    input_dir=tiff_input_path,\n",
    "    max_files=1\n",
    ")"
   ]
  },
  {
   "cell_type": "code",
   "execution_count": null,
   "metadata": {},
   "outputs": [],
   "source": [
    "# build collection\n",
    "build_collection(\n",
    "    collection_config_path=collection_config_path,\n",
    "    glob=tiffs_glob,\n",
    "    input_dir=tiff_input_path,\n",
    "    output_dir=test_output_path,\n",
    "    overwrite=False,\n",
    ")"
   ]
  },
  {
   "cell_type": "code",
   "execution_count": null,
   "metadata": {},
   "outputs": [],
   "source": [
    "# build grouped collection\n",
    "build_grouped_collections(\n",
    "    collection_config_path=collection_config_path,\n",
    "    glob=tiffs_glob,\n",
    "    input_dir=tiff_input_path,\n",
    "    output_dir=test_output_path,\n",
    "    overwrite=False,\n",
    ")"
   ]
  },
  {
   "cell_type": "code",
   "execution_count": 11,
   "metadata": {},
   "outputs": [
    {
     "ename": "FileNotFoundError",
     "evalue": "[Errno 2] No such file or directory: 'c:/Users/VERHAERV/WorkingDirs/stac-catalog-builder/configs-datasets/PEOPLE_EA/Landsat_three-annual_NDWI_v1/results/test/v0.5'",
     "output_type": "error",
     "traceback": [
      "\u001b[1;31m---------------------------------------------------------------------------\u001b[0m",
      "\u001b[1;31mFileNotFoundError\u001b[0m                         Traceback (most recent call last)",
      "Cell \u001b[1;32mIn[11], line 2\u001b[0m\n\u001b[0;32m      1\u001b[0m \u001b[38;5;66;03m# show collection\u001b[39;00m\n\u001b[1;32m----> 2\u001b[0m \u001b[43mCLICommands\u001b[49m\u001b[38;5;241;43m.\u001b[39;49m\u001b[43mload_collection\u001b[49m\u001b[43m(\u001b[49m\n\u001b[0;32m      3\u001b[0m \u001b[43m    \u001b[49m\u001b[43mcollection_file\u001b[49m\u001b[38;5;241;43m=\u001b[39;49m\u001b[43mtest_output_path\u001b[49m\u001b[43m,\u001b[49m\n\u001b[0;32m      4\u001b[0m \u001b[43m)\u001b[49m\n",
      "File \u001b[1;32m~\\WorkingDirs\\stac-catalog-builder\\stacbuilder\\commandapi.py:221\u001b[0m, in \u001b[0;36mCLICommands.load_collection\u001b[1;34m(collection_file)\u001b[0m\n\u001b[0;32m    216\u001b[0m \u001b[38;5;129m@staticmethod\u001b[39m\n\u001b[0;32m    217\u001b[0m \u001b[38;5;28;01mdef\u001b[39;00m \u001b[38;5;21mload_collection\u001b[39m(\n\u001b[0;32m    218\u001b[0m     collection_file: Path,\n\u001b[0;32m    219\u001b[0m ):\n\u001b[0;32m    220\u001b[0m \u001b[38;5;250m    \u001b[39m\u001b[38;5;124;03m\"\"\"Show the STAC collection in 'collection_file'.\"\"\"\u001b[39;00m\n\u001b[1;32m--> 221\u001b[0m     collection \u001b[38;5;241m=\u001b[39m \u001b[43mCollection\u001b[49m\u001b[38;5;241;43m.\u001b[39;49m\u001b[43mfrom_file\u001b[49m\u001b[43m(\u001b[49m\u001b[43mcollection_file\u001b[49m\u001b[43m)\u001b[49m\n\u001b[0;32m    222\u001b[0m     pprint\u001b[38;5;241m.\u001b[39mpprint(collection\u001b[38;5;241m.\u001b[39mto_dict(), indent\u001b[38;5;241m=\u001b[39m\u001b[38;5;241m2\u001b[39m)\n",
      "File \u001b[1;32mc:\\Users\\VERHAERV\\AppData\\Local\\miniconda3\\envs\\stac-catalog-builder\\Lib\\site-packages\\pystac\\catalog.py:1253\u001b[0m, in \u001b[0;36mCatalog.from_file\u001b[1;34m(cls, href, stac_io)\u001b[0m\n\u001b[0;32m   1250\u001b[0m \u001b[38;5;28;01mif\u001b[39;00m stac_io \u001b[38;5;129;01mis\u001b[39;00m \u001b[38;5;28;01mNone\u001b[39;00m:\n\u001b[0;32m   1251\u001b[0m     stac_io \u001b[38;5;241m=\u001b[39m pystac\u001b[38;5;241m.\u001b[39mStacIO\u001b[38;5;241m.\u001b[39mdefault()\n\u001b[1;32m-> 1253\u001b[0m result \u001b[38;5;241m=\u001b[39m \u001b[38;5;28;43msuper\u001b[39;49m\u001b[43m(\u001b[49m\u001b[43m)\u001b[49m\u001b[38;5;241;43m.\u001b[39;49m\u001b[43mfrom_file\u001b[49m\u001b[43m(\u001b[49m\u001b[43mhref\u001b[49m\u001b[43m,\u001b[49m\u001b[43m \u001b[49m\u001b[43mstac_io\u001b[49m\u001b[43m)\u001b[49m\n\u001b[0;32m   1254\u001b[0m result\u001b[38;5;241m.\u001b[39m_stac_io \u001b[38;5;241m=\u001b[39m stac_io\n\u001b[0;32m   1256\u001b[0m \u001b[38;5;28;01mreturn\u001b[39;00m result\n",
      "File \u001b[1;32mc:\\Users\\VERHAERV\\AppData\\Local\\miniconda3\\envs\\stac-catalog-builder\\Lib\\site-packages\\pystac\\stac_object.py:630\u001b[0m, in \u001b[0;36mSTACObject.from_file\u001b[1;34m(cls, href, stac_io)\u001b[0m\n\u001b[0;32m    627\u001b[0m \u001b[38;5;28;01mif\u001b[39;00m \u001b[38;5;129;01mnot\u001b[39;00m is_absolute_href(href):\n\u001b[0;32m    628\u001b[0m     href \u001b[38;5;241m=\u001b[39m make_absolute_href(href)\n\u001b[1;32m--> 630\u001b[0m d \u001b[38;5;241m=\u001b[39m \u001b[43mstac_io\u001b[49m\u001b[38;5;241;43m.\u001b[39;49m\u001b[43mread_json\u001b[49m\u001b[43m(\u001b[49m\u001b[43mhref\u001b[49m\u001b[43m)\u001b[49m\n\u001b[0;32m    631\u001b[0m o \u001b[38;5;241m=\u001b[39m \u001b[38;5;28mcls\u001b[39m\u001b[38;5;241m.\u001b[39mfrom_dict(d, href\u001b[38;5;241m=\u001b[39mhref, migrate\u001b[38;5;241m=\u001b[39m\u001b[38;5;28;01mTrue\u001b[39;00m, preserve_dict\u001b[38;5;241m=\u001b[39m\u001b[38;5;28;01mFalse\u001b[39;00m)\n\u001b[0;32m    633\u001b[0m \u001b[38;5;66;03m# If this is a root catalog, set the root to the catalog instance.\u001b[39;00m\n",
      "File \u001b[1;32mc:\\Users\\VERHAERV\\AppData\\Local\\miniconda3\\envs\\stac-catalog-builder\\Lib\\site-packages\\pystac\\stac_io.py:205\u001b[0m, in \u001b[0;36mStacIO.read_json\u001b[1;34m(self, source, *args, **kwargs)\u001b[0m\n\u001b[0;32m    188\u001b[0m \u001b[38;5;28;01mdef\u001b[39;00m \u001b[38;5;21mread_json\u001b[39m(\u001b[38;5;28mself\u001b[39m, source: HREF, \u001b[38;5;241m*\u001b[39margs: Any, \u001b[38;5;241m*\u001b[39m\u001b[38;5;241m*\u001b[39mkwargs: Any) \u001b[38;5;241m-\u001b[39m\u001b[38;5;241m>\u001b[39m Dict[\u001b[38;5;28mstr\u001b[39m, Any]:\n\u001b[0;32m    189\u001b[0m \u001b[38;5;250m    \u001b[39m\u001b[38;5;124;03m\"\"\"Read a dict from the given source.\u001b[39;00m\n\u001b[0;32m    190\u001b[0m \n\u001b[0;32m    191\u001b[0m \u001b[38;5;124;03m    See :func:`StacIO.read_text <pystac.StacIO.read_text>` for usage of\u001b[39;00m\n\u001b[1;32m   (...)\u001b[0m\n\u001b[0;32m    203\u001b[0m \u001b[38;5;124;03m        given source.\u001b[39;00m\n\u001b[0;32m    204\u001b[0m \u001b[38;5;124;03m    \"\"\"\u001b[39;00m\n\u001b[1;32m--> 205\u001b[0m     txt \u001b[38;5;241m=\u001b[39m \u001b[38;5;28;43mself\u001b[39;49m\u001b[38;5;241;43m.\u001b[39;49m\u001b[43mread_text\u001b[49m\u001b[43m(\u001b[49m\u001b[43msource\u001b[49m\u001b[43m,\u001b[49m\u001b[43m \u001b[49m\u001b[38;5;241;43m*\u001b[39;49m\u001b[43margs\u001b[49m\u001b[43m,\u001b[49m\u001b[43m \u001b[49m\u001b[38;5;241;43m*\u001b[39;49m\u001b[38;5;241;43m*\u001b[39;49m\u001b[43mkwargs\u001b[49m\u001b[43m)\u001b[49m\n\u001b[0;32m    206\u001b[0m     \u001b[38;5;28;01mreturn\u001b[39;00m \u001b[38;5;28mself\u001b[39m\u001b[38;5;241m.\u001b[39mjson_loads(txt)\n",
      "File \u001b[1;32mc:\\Users\\VERHAERV\\AppData\\Local\\miniconda3\\envs\\stac-catalog-builder\\Lib\\site-packages\\pystac\\stac_io.py:282\u001b[0m, in \u001b[0;36mDefaultStacIO.read_text\u001b[1;34m(self, source, *_, **__)\u001b[0m\n\u001b[0;32m    277\u001b[0m \u001b[38;5;250m\u001b[39m\u001b[38;5;124;03m\"\"\"A concrete implementation of :meth:`StacIO.read_text\u001b[39;00m\n\u001b[0;32m    278\u001b[0m \u001b[38;5;124;03m<pystac.StacIO.read_text>`. Converts the ``source`` argument to a string (if it\u001b[39;00m\n\u001b[0;32m    279\u001b[0m \u001b[38;5;124;03mis not already) and delegates to :meth:`DefaultStacIO.read_text_from_href` for\u001b[39;00m\n\u001b[0;32m    280\u001b[0m \u001b[38;5;124;03mopening and reading the file.\"\"\"\u001b[39;00m\n\u001b[0;32m    281\u001b[0m href \u001b[38;5;241m=\u001b[39m \u001b[38;5;28mstr\u001b[39m(os\u001b[38;5;241m.\u001b[39mfspath(source))\n\u001b[1;32m--> 282\u001b[0m \u001b[38;5;28;01mreturn\u001b[39;00m \u001b[38;5;28;43mself\u001b[39;49m\u001b[38;5;241;43m.\u001b[39;49m\u001b[43mread_text_from_href\u001b[49m\u001b[43m(\u001b[49m\u001b[43mhref\u001b[49m\u001b[43m)\u001b[49m\n",
      "File \u001b[1;32mc:\\Users\\VERHAERV\\AppData\\Local\\miniconda3\\envs\\stac-catalog-builder\\Lib\\site-packages\\pystac\\stac_io.py:305\u001b[0m, in \u001b[0;36mDefaultStacIO.read_text_from_href\u001b[1;34m(self, href)\u001b[0m\n\u001b[0;32m    303\u001b[0m         \u001b[38;5;28;01mraise\u001b[39;00m \u001b[38;5;167;01mException\u001b[39;00m(\u001b[38;5;124m\"\u001b[39m\u001b[38;5;124mCould not read uri \u001b[39m\u001b[38;5;132;01m{}\u001b[39;00m\u001b[38;5;124m\"\u001b[39m\u001b[38;5;241m.\u001b[39mformat(href)) \u001b[38;5;28;01mfrom\u001b[39;00m \u001b[38;5;21;01me\u001b[39;00m\n\u001b[0;32m    304\u001b[0m \u001b[38;5;28;01melse\u001b[39;00m:\n\u001b[1;32m--> 305\u001b[0m     \u001b[38;5;28;01mwith\u001b[39;00m \u001b[38;5;28;43mopen\u001b[39;49m\u001b[43m(\u001b[49m\u001b[43mhref\u001b[49m\u001b[43m,\u001b[49m\u001b[43m \u001b[49m\u001b[43mencoding\u001b[49m\u001b[38;5;241;43m=\u001b[39;49m\u001b[38;5;124;43m\"\u001b[39;49m\u001b[38;5;124;43mutf-8\u001b[39;49m\u001b[38;5;124;43m\"\u001b[39;49m\u001b[43m)\u001b[49m \u001b[38;5;28;01mas\u001b[39;00m f:\n\u001b[0;32m    306\u001b[0m         href_contents \u001b[38;5;241m=\u001b[39m f\u001b[38;5;241m.\u001b[39mread()\n\u001b[0;32m    307\u001b[0m \u001b[38;5;28;01mreturn\u001b[39;00m href_contents\n",
      "\u001b[1;31mFileNotFoundError\u001b[0m: [Errno 2] No such file or directory: 'c:/Users/VERHAERV/WorkingDirs/stac-catalog-builder/configs-datasets/PEOPLE_EA/Landsat_three-annual_NDWI_v1/results/test/v0.5'"
     ]
    }
   ],
   "source": [
    "# show collection\n",
    "load_collection(\n",
    "    collection_file=test_output_path,\n",
    ")"
   ]
  },
  {
   "cell_type": "code",
   "execution_count": null,
   "metadata": {},
   "outputs": [],
   "source": [
    "# validate collection\n",
    "validate_collection(\n",
    "    collection_file=test_output_path,\n",
    ")"
   ]
  },
  {
   "cell_type": "code",
   "execution_count": null,
   "metadata": {},
   "outputs": [],
   "source": [
    "# test openeo\n",
    "# TODO check different arguments\n",
    "from stacbuilder.verify_openeo import verify_in_openeo\n",
    "verify_in_openeo(\n",
    "    collection_path=test_output_path,\n",
    "    backend_url=openeo_backend_url,\n",
    ")"
   ]
  },
  {
   "cell_type": "code",
   "execution_count": null,
   "metadata": {},
   "outputs": [],
   "source": [
    "# clean up"
   ]
  }
 ],
 "metadata": {
  "kernelspec": {
   "display_name": "stac-catalog-builder",
   "language": "python",
   "name": "python3"
  },
  "language_info": {
   "codemirror_mode": {
    "name": "ipython",
    "version": 3
   },
   "file_extension": ".py",
   "mimetype": "text/x-python",
   "name": "python",
   "nbconvert_exporter": "python",
   "pygments_lexer": "ipython3",
   "version": "3.11.0"
  }
 },
 "nbformat": 4,
 "nbformat_minor": 2
}
